{
 "cells": [
  {
   "cell_type": "code",
   "execution_count": 2,
   "id": "59e8f5be",
   "metadata": {},
   "outputs": [],
   "source": [
    "# !pip install elasticsearch"
   ]
  },
  {
   "cell_type": "code",
   "execution_count": 3,
   "id": "3a079536",
   "metadata": {},
   "outputs": [],
   "source": [
    "from elasticsearch import Elasticsearch"
   ]
  },
  {
   "cell_type": "code",
   "execution_count": 10,
   "id": "cbe493ab",
   "metadata": {},
   "outputs": [],
   "source": [
    "es = Elasticsearch(\"http://localhost:9200/\", request_timeout=60)"
   ]
  },
  {
   "cell_type": "code",
   "execution_count": 11,
   "id": "1bff04c6",
   "metadata": {},
   "outputs": [
    {
     "data": {
      "text/plain": [
       "<Elasticsearch(['http://localhost:9200'])>"
      ]
     },
     "execution_count": 11,
     "metadata": {},
     "output_type": "execute_result"
    }
   ],
   "source": [
    "es"
   ]
  },
  {
   "cell_type": "code",
   "execution_count": 12,
   "id": "a6fa0ab1",
   "metadata": {},
   "outputs": [
    {
     "data": {
      "text/plain": [
       "ObjectApiResponse({'_index': 'emp', '_id': '1', '_version': 2, 'result': 'updated', '_shards': {'total': 2, 'successful': 1, 'failed': 0}, '_seq_no': 1, '_primary_term': 1})"
      ]
     },
     "execution_count": 12,
     "metadata": {},
     "output_type": "execute_result"
    }
   ],
   "source": [
    "# Index a simple document\n",
    "document = {\n",
    "    \"name\" : \"John Smith\",\n",
    "    \"age\" : 40,\n",
    "    \"department\" : \"IT\",\n",
    "    \"occupation\" : \"Software Engineer\",\n",
    "    \"branch\" : \"Noida\"\n",
    "}\n",
    "\n",
    "es.index(index=\"emp\", id=1, document=document)"
   ]
  },
  {
   "cell_type": "code",
   "execution_count": 13,
   "id": "551af8ba",
   "metadata": {},
   "outputs": [],
   "source": [
    "query = {\n",
    "    \"query\" : {\n",
    "        \"match\" : {\n",
    "            \"branch\" : \"Noida\"\n",
    "        }\n",
    "    }\n",
    "}\n",
    "\n",
    "response = es.search(index=\"emp\", body=query)"
   ]
  },
  {
   "cell_type": "code",
   "execution_count": 14,
   "id": "da8afb7c",
   "metadata": {},
   "outputs": [
    {
     "name": "stdout",
     "output_type": "stream",
     "text": [
      "Search Results : {'took': 58, 'timed_out': False, '_shards': {'total': 1, 'successful': 1, 'skipped': 0, 'failed': 0}, 'hits': {'total': {'value': 1, 'relation': 'eq'}, 'max_score': 0.18232156, 'hits': [{'_index': 'emp', '_id': '1', '_score': 0.18232156, '_source': {'name': 'John Smith', 'age': 40, 'department': 'IT', 'occupation': 'Software Engineer', 'branch': 'Noida'}}]}}\n"
     ]
    }
   ],
   "source": [
    "print(\"Search Results :\", response)"
   ]
  },
  {
   "cell_type": "code",
   "execution_count": 17,
   "id": "86772210",
   "metadata": {},
   "outputs": [
    {
     "data": {
      "text/plain": [
       "[{'_index': 'emp',\n",
       "  '_id': '1',\n",
       "  '_score': 0.18232156,\n",
       "  '_source': {'name': 'John Smith',\n",
       "   'age': 40,\n",
       "   'department': 'IT',\n",
       "   'occupation': 'Software Engineer',\n",
       "   'branch': 'Noida'}}]"
      ]
     },
     "execution_count": 17,
     "metadata": {},
     "output_type": "execute_result"
    }
   ],
   "source": [
    "response[\"hits\"][\"hits\"]"
   ]
  },
  {
   "cell_type": "code",
   "execution_count": null,
   "id": "40fe04bf",
   "metadata": {},
   "outputs": [],
   "source": []
  }
 ],
 "metadata": {
  "kernelspec": {
   "display_name": "Python 3 (ipykernel)",
   "language": "python",
   "name": "python3"
  },
  "language_info": {
   "codemirror_mode": {
    "name": "ipython",
    "version": 3
   },
   "file_extension": ".py",
   "mimetype": "text/x-python",
   "name": "python",
   "nbconvert_exporter": "python",
   "pygments_lexer": "ipython3",
   "version": "3.11.4"
  }
 },
 "nbformat": 4,
 "nbformat_minor": 5
}
