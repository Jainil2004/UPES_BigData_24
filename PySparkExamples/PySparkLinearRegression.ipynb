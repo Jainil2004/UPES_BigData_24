{
 "cells": [
  {
   "cell_type": "code",
   "execution_count": 1,
   "id": "624e4969",
   "metadata": {},
   "outputs": [],
   "source": [
    "import os, sys\n",
    "from pyspark.sql import SparkSession\n",
    "import pyspark.sql.functions as fun\n",
    "from pyspark.sql.functions import col\n",
    "from pyspark.ml.regression import LinearRegression\n",
    "from pyspark.ml.feature import VectorAssembler"
   ]
  },
  {
   "cell_type": "code",
   "execution_count": 2,
   "id": "66e6cf20",
   "metadata": {},
   "outputs": [],
   "source": [
    "os.environ[\"PYSPARK_PYTHON\"] = sys.executable\n",
    "os.environ[\"PYSPARK_DRIVER_PYTHON\"] = sys.executable"
   ]
  },
  {
   "cell_type": "code",
   "execution_count": 3,
   "id": "b42083e0",
   "metadata": {},
   "outputs": [],
   "source": [
    "spark = SparkSession.builder.master(\"local[1]\").appName(\"ML_LinearRegression\").getOrCreate()"
   ]
  },
  {
   "cell_type": "code",
   "execution_count": 6,
   "id": "e0727a0a",
   "metadata": {},
   "outputs": [],
   "source": [
    "df = spark.read.csv(\"headbrain.csv\", header=True)"
   ]
  },
  {
   "cell_type": "code",
   "execution_count": 7,
   "id": "008ebbcc",
   "metadata": {},
   "outputs": [
    {
     "name": "stdout",
     "output_type": "stream",
     "text": [
      "+------+---------+---------------+-------------------+\n",
      "|Gender|Age Range|Head Size(cm^3)|Brain Weight(grams)|\n",
      "+------+---------+---------------+-------------------+\n",
      "|     1|        1|           4512|               1530|\n",
      "|     1|        1|           3738|               1297|\n",
      "|     1|        1|           4261|               1335|\n",
      "|     1|        1|           3777|               1282|\n",
      "|     1|        1|           4177|               1590|\n",
      "+------+---------+---------------+-------------------+\n",
      "only showing top 5 rows\n",
      "\n"
     ]
    }
   ],
   "source": [
    "df.show(5)"
   ]
  },
  {
   "cell_type": "code",
   "execution_count": 8,
   "id": "d28318b9",
   "metadata": {},
   "outputs": [
    {
     "name": "stdout",
     "output_type": "stream",
     "text": [
      "root\n",
      " |-- Gender: string (nullable = true)\n",
      " |-- Age Range: string (nullable = true)\n",
      " |-- Head Size(cm^3): string (nullable = true)\n",
      " |-- Brain Weight(grams): string (nullable = true)\n",
      "\n"
     ]
    }
   ],
   "source": [
    "df.printSchema()"
   ]
  },
  {
   "cell_type": "code",
   "execution_count": 9,
   "id": "8ad9899e",
   "metadata": {},
   "outputs": [
    {
     "data": {
      "text/plain": [
       "(237, 4)"
      ]
     },
     "execution_count": 9,
     "metadata": {},
     "output_type": "execute_result"
    }
   ],
   "source": [
    "df.count(), len(df.columns)"
   ]
  },
  {
   "cell_type": "code",
   "execution_count": 10,
   "id": "cc8db03c",
   "metadata": {},
   "outputs": [
    {
     "name": "stdout",
     "output_type": "stream",
     "text": [
      "+-------+------------------+-------------------+\n",
      "|summary|   Head Size(cm^3)|Brain Weight(grams)|\n",
      "+-------+------------------+-------------------+\n",
      "|  count|               237|                237|\n",
      "|   mean|3633.9915611814345|  1282.873417721519|\n",
      "| stddev| 365.2614224198132| 120.34044578645734|\n",
      "|    min|              2720|               1012|\n",
      "|    max|              4747|                955|\n",
      "+-------+------------------+-------------------+\n",
      "\n"
     ]
    }
   ],
   "source": [
    "df.select(\"Head Size(cm^3)\", \"Brain Weight(grams)\").describe().show()"
   ]
  },
  {
   "cell_type": "code",
   "execution_count": 12,
   "id": "7bf172a2",
   "metadata": {},
   "outputs": [],
   "source": [
    "# Type casting columns to int\n",
    "# df.withColumn(\"Brain Weight(grams)\", col(\"Brain Weight(grams)\").cast(\"Integer\"))\n",
    "\n",
    "# Convert all columns into integer\n",
    "df = df.select(*(col(c).cast(\"Integer\").alias(c) for c in df.columns))"
   ]
  },
  {
   "cell_type": "code",
   "execution_count": 13,
   "id": "e0d485d6",
   "metadata": {},
   "outputs": [
    {
     "name": "stdout",
     "output_type": "stream",
     "text": [
      "root\n",
      " |-- Gender: integer (nullable = true)\n",
      " |-- Age Range: integer (nullable = true)\n",
      " |-- Head Size(cm^3): integer (nullable = true)\n",
      " |-- Brain Weight(grams): integer (nullable = true)\n",
      "\n"
     ]
    }
   ],
   "source": [
    "df.printSchema()"
   ]
  },
  {
   "cell_type": "code",
   "execution_count": 15,
   "id": "917c4d8a",
   "metadata": {},
   "outputs": [
    {
     "data": {
      "text/plain": [
       "Gender                 0\n",
       "Age Range              0\n",
       "Head Size(cm^3)        0\n",
       "Brain Weight(grams)    0\n",
       "dtype: int64"
      ]
     },
     "execution_count": 15,
     "metadata": {},
     "output_type": "execute_result"
    }
   ],
   "source": [
    "# Check for null/missing values in data\n",
    "df.toPandas().isna().sum()"
   ]
  },
  {
   "cell_type": "code",
   "execution_count": 18,
   "id": "4fdeb85a",
   "metadata": {},
   "outputs": [
    {
     "name": "stdout",
     "output_type": "stream",
     "text": [
      "+------+---------+---------------+-------------------+\n",
      "|Gender|Age Range|Head Size(cm^3)|Brain Weight(grams)|\n",
      "+------+---------+---------------+-------------------+\n",
      "|     0|        0|              0|                  0|\n",
      "+------+---------+---------------+-------------------+\n",
      "\n"
     ]
    }
   ],
   "source": [
    "df.agg(*[fun.count(fun.when(fun.isnull(column), column)).alias(column) for column in df.columns]).show()"
   ]
  },
  {
   "cell_type": "code",
   "execution_count": 43,
   "id": "8c887dfb",
   "metadata": {},
   "outputs": [],
   "source": [
    "# Outlier detection and treatment\n",
    "# Using IQR - Interquartile Range\n",
    "# We consider those values to be outliers \n",
    "# that are below - (Q1 - 1.5 x IQR) \n",
    "# or above - (Q3 + 1.5 x IQR)\n",
    "\n",
    "columns = df.columns\n",
    "\n",
    "def outlierTreatment(column):\n",
    "    quantiles = df.approxQuantile(column, [0.25, 0.75], 0.05)\n",
    "    Q1, Q3 = quantiles[0], quantiles[1]\n",
    "    IQR = Q3 - Q1\n",
    "    lower_bound = Q1 - 1.5 * IQR\n",
    "    upper_bound = Q3 + 1.5 * IQR\n",
    "    \n",
    "    outliers_df = df.filter((col(column) < lower_bound) | (col(column) > upper_bound))\n",
    "    \n",
    "    # Capping - Replace outliers above or below a threshold boundary values\n",
    "\n",
    "    df_capped = df.withColumn(column,\n",
    "                             fun.when(col(column) > upper_bound, upper_bound)\n",
    "                             .when(col(column) < lower_bound, lower_bound)\n",
    "                             .otherwise(col(column)))\n",
    "\n",
    "    \n",
    "    # return outliers_df\n",
    "    return df_capped"
   ]
  },
  {
   "cell_type": "code",
   "execution_count": 40,
   "id": "3965df02",
   "metadata": {},
   "outputs": [
    {
     "data": {
      "text/plain": [
       "['Head Size(cm^3)', 'Brain Weight(grams)']"
      ]
     },
     "execution_count": 40,
     "metadata": {},
     "output_type": "execute_result"
    }
   ],
   "source": [
    "columns"
   ]
  },
  {
   "cell_type": "code",
   "execution_count": 44,
   "id": "79d77b74",
   "metadata": {},
   "outputs": [],
   "source": [
    "# output_df = outlierTreatment(columns[0])\n",
    "# output_df.show()"
   ]
  },
  {
   "cell_type": "code",
   "execution_count": 45,
   "id": "e4c19409",
   "metadata": {},
   "outputs": [],
   "source": [
    "# output_df = outlierTreatment(columns[1])\n",
    "# output_df.show()"
   ]
  },
  {
   "cell_type": "code",
   "execution_count": 47,
   "id": "649983a4",
   "metadata": {},
   "outputs": [
    {
     "name": "stdout",
     "output_type": "stream",
     "text": [
      "+---------------+-------------------+\n",
      "|Head Size(cm^3)|Brain Weight(grams)|\n",
      "+---------------+-------------------+\n",
      "|         4512.0|               1530|\n",
      "|         3738.0|               1297|\n",
      "|         4261.0|               1335|\n",
      "|         3777.0|               1282|\n",
      "|         4177.0|               1590|\n",
      "+---------------+-------------------+\n",
      "only showing top 5 rows\n",
      "\n"
     ]
    }
   ],
   "source": [
    "outlierTreatment(columns[0]).show(5)"
   ]
  },
  {
   "cell_type": "code",
   "execution_count": 19,
   "id": "e85fb448",
   "metadata": {},
   "outputs": [],
   "source": [
    "# df.fillna()\n",
    "# df.dropna()"
   ]
  },
  {
   "cell_type": "code",
   "execution_count": 20,
   "id": "87ca6bb3",
   "metadata": {},
   "outputs": [],
   "source": [
    "df = df.drop(*[\"Gender\", \"Age Range\"])"
   ]
  },
  {
   "cell_type": "code",
   "execution_count": 21,
   "id": "ed88eb87",
   "metadata": {},
   "outputs": [
    {
     "name": "stdout",
     "output_type": "stream",
     "text": [
      "+---------------+-------------------+\n",
      "|Head Size(cm^3)|Brain Weight(grams)|\n",
      "+---------------+-------------------+\n",
      "|           4512|               1530|\n",
      "|           3738|               1297|\n",
      "|           4261|               1335|\n",
      "|           3777|               1282|\n",
      "|           4177|               1590|\n",
      "+---------------+-------------------+\n",
      "only showing top 5 rows\n",
      "\n"
     ]
    }
   ],
   "source": [
    "df.show(5)"
   ]
  },
  {
   "cell_type": "code",
   "execution_count": 22,
   "id": "4c0c1e72",
   "metadata": {},
   "outputs": [],
   "source": [
    "# Drop target column to get features only\n",
    "X = df.drop(\"Brain Weight(grams)\")"
   ]
  },
  {
   "cell_type": "code",
   "execution_count": 23,
   "id": "0109b285",
   "metadata": {},
   "outputs": [],
   "source": [
    "assembler = VectorAssembler(inputCols=X.columns, outputCol=\"features\")"
   ]
  },
  {
   "cell_type": "code",
   "execution_count": 24,
   "id": "99d1cdc2",
   "metadata": {},
   "outputs": [],
   "source": [
    "output = assembler.transform(df).select(\"features\", \"Brain Weight(grams)\")"
   ]
  },
  {
   "cell_type": "code",
   "execution_count": 26,
   "id": "6454d21e",
   "metadata": {},
   "outputs": [
    {
     "name": "stdout",
     "output_type": "stream",
     "text": [
      "+--------+-------------------+\n",
      "|features|Brain Weight(grams)|\n",
      "+--------+-------------------+\n",
      "|[4512.0]|               1530|\n",
      "|[3738.0]|               1297|\n",
      "|[4261.0]|               1335|\n",
      "|[3777.0]|               1282|\n",
      "|[4177.0]|               1590|\n",
      "+--------+-------------------+\n",
      "only showing top 5 rows\n",
      "\n"
     ]
    }
   ],
   "source": [
    "output.show(5)"
   ]
  },
  {
   "cell_type": "code",
   "execution_count": 27,
   "id": "96c880be",
   "metadata": {},
   "outputs": [],
   "source": [
    "regression = LinearRegression(featuresCol=\"features\", labelCol=\"Brain Weight(grams)\")\n",
    "model = regression.fit(output)"
   ]
  },
  {
   "cell_type": "code",
   "execution_count": 28,
   "id": "61e4b1ee",
   "metadata": {},
   "outputs": [
    {
     "data": {
      "text/plain": [
       "DenseVector([0.2634])"
      ]
     },
     "execution_count": 28,
     "metadata": {},
     "output_type": "execute_result"
    }
   ],
   "source": [
    "model.coefficients"
   ]
  },
  {
   "cell_type": "code",
   "execution_count": 29,
   "id": "eab545ea",
   "metadata": {},
   "outputs": [
    {
     "data": {
      "text/plain": [
       "325.5734210494322"
      ]
     },
     "execution_count": 29,
     "metadata": {},
     "output_type": "execute_result"
    }
   ],
   "source": [
    "model.intercept"
   ]
  },
  {
   "cell_type": "code",
   "execution_count": 31,
   "id": "a3d0e80b",
   "metadata": {},
   "outputs": [
    {
     "data": {
      "text/plain": [
       "5201.384028002333"
      ]
     },
     "execution_count": 31,
     "metadata": {},
     "output_type": "execute_result"
    }
   ],
   "source": [
    "model.summary.meanSquaredError"
   ]
  },
  {
   "cell_type": "code",
   "execution_count": null,
   "id": "5a4d848f",
   "metadata": {},
   "outputs": [],
   "source": []
  }
 ],
 "metadata": {
  "kernelspec": {
   "display_name": "Python 3 (ipykernel)",
   "language": "python",
   "name": "python3"
  },
  "language_info": {
   "codemirror_mode": {
    "name": "ipython",
    "version": 3
   },
   "file_extension": ".py",
   "mimetype": "text/x-python",
   "name": "python",
   "nbconvert_exporter": "python",
   "pygments_lexer": "ipython3",
   "version": "3.11.4"
  }
 },
 "nbformat": 4,
 "nbformat_minor": 5
}
