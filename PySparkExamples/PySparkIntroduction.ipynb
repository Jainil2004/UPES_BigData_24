{
 "cells": [
  {
   "cell_type": "code",
   "execution_count": 2,
   "id": "a1ccf364",
   "metadata": {},
   "outputs": [],
   "source": [
    "# !pip install pyspark"
   ]
  },
  {
   "cell_type": "code",
   "execution_count": 1,
   "id": "d424ebbf",
   "metadata": {},
   "outputs": [],
   "source": [
    "import os, sys\n",
    "\n",
    "# SparkContext - Entry point to PySpark Functionality\n",
    "# SparkSession - Entry point to PySpark to work RDD\n",
    "# - introduced in version 2.0\n",
    "# - replaced SQLContext, HiveContext\n",
    "\n",
    "from pyspark.sql import SparkSession"
   ]
  },
  {
   "cell_type": "code",
   "execution_count": 2,
   "id": "2189fb9d",
   "metadata": {},
   "outputs": [],
   "source": [
    "os.environ[\"PYSPARK_PYTHON\"] = sys.executable\n",
    "os.environ[\"PYSPARK_DRIVER_PYTHON\"] = sys.executable"
   ]
  },
  {
   "cell_type": "code",
   "execution_count": 3,
   "id": "37fe64b5",
   "metadata": {},
   "outputs": [],
   "source": [
    "# master() - if you are running it on cluster you need to use master name\n",
    "# ideally it would be either yarn or mesos\n",
    "\n",
    "# local[x] - when running in standalone mode\n",
    "# x - how many partitions it should create with RDD\n",
    "spark = SparkSession.builder.master(\"local[1]\").appName(\"MyFirstApp\").getOrCreate()"
   ]
  },
  {
   "cell_type": "code",
   "execution_count": 4,
   "id": "e8ea18f9",
   "metadata": {},
   "outputs": [
    {
     "name": "stdout",
     "output_type": "stream",
     "text": [
      "<pyspark.sql.session.SparkSession object at 0x0000024B581FF2D0>\n"
     ]
    }
   ],
   "source": [
    "print(spark)"
   ]
  },
  {
   "cell_type": "code",
   "execution_count": 5,
   "id": "753e449e",
   "metadata": {},
   "outputs": [
    {
     "data": {
      "text/html": [
       "\n",
       "            <div>\n",
       "                <p><b>SparkSession - in-memory</b></p>\n",
       "                \n",
       "        <div>\n",
       "            <p><b>SparkContext</b></p>\n",
       "\n",
       "            <p><a href=\"http://LAPTOP-69NKCP74:4040\">Spark UI</a></p>\n",
       "\n",
       "            <dl>\n",
       "              <dt>Version</dt>\n",
       "                <dd><code>v3.5.3</code></dd>\n",
       "              <dt>Master</dt>\n",
       "                <dd><code>local[1]</code></dd>\n",
       "              <dt>AppName</dt>\n",
       "                <dd><code>MyFirstApp</code></dd>\n",
       "            </dl>\n",
       "        </div>\n",
       "        \n",
       "            </div>\n",
       "        "
      ],
      "text/plain": [
       "<pyspark.sql.session.SparkSession at 0x24b581ff2d0>"
      ]
     },
     "execution_count": 5,
     "metadata": {},
     "output_type": "execute_result"
    }
   ],
   "source": [
    "spark"
   ]
  },
  {
   "cell_type": "code",
   "execution_count": 6,
   "id": "aeaeac23",
   "metadata": {},
   "outputs": [],
   "source": [
    "# SparkSession.newSession\n",
    "# SparkSession.builder.getOrCreate\n",
    "\n",
    "# enable hive support with SparkSession\n",
    "# SparkSession.builder.master().appName().enableHiveSupport().getOrCreate()"
   ]
  },
  {
   "cell_type": "code",
   "execution_count": 7,
   "id": "3ab92981",
   "metadata": {},
   "outputs": [],
   "source": [
    "dataset = [\n",
    "    (101, \"John\", 56000),\n",
    "    (102, \"Max\", 50000),\n",
    "    (103, \"Shawn\", 656000),\n",
    "    (104, \"Jack\", 45000),\n",
    "    (105, \"Nick\", 89000),\n",
    "    (106, \"Smith\", 25000),\n",
    "    (107, \"Suma\", 75000),\n",
    "    (108, \"Alex\", 85000),\n",
    "    (109, \"Raman\", 100000)\n",
    "]"
   ]
  },
  {
   "cell_type": "code",
   "execution_count": 8,
   "id": "75004ecb",
   "metadata": {},
   "outputs": [
    {
     "name": "stdout",
     "output_type": "stream",
     "text": [
      "ParallelCollectionRDD[0] at readRDDFromFile at PythonRDD.scala:289\n"
     ]
    }
   ],
   "source": [
    "rdd = spark.sparkContext.parallelize(dataset)\n",
    "print(rdd)"
   ]
  },
  {
   "cell_type": "code",
   "execution_count": 9,
   "id": "accd20bf",
   "metadata": {},
   "outputs": [
    {
     "data": {
      "text/plain": [
       "1"
      ]
     },
     "execution_count": 9,
     "metadata": {},
     "output_type": "execute_result"
    }
   ],
   "source": [
    "rdd.getNumPartitions()"
   ]
  },
  {
   "cell_type": "code",
   "execution_count": 10,
   "id": "73618812",
   "metadata": {},
   "outputs": [
    {
     "data": {
      "text/plain": [
       "[(101, 'John', 56000),\n",
       " (102, 'Max', 50000),\n",
       " (103, 'Shawn', 656000),\n",
       " (104, 'Jack', 45000),\n",
       " (105, 'Nick', 89000),\n",
       " (106, 'Smith', 25000),\n",
       " (107, 'Suma', 75000),\n",
       " (108, 'Alex', 85000),\n",
       " (109, 'Raman', 100000)]"
      ]
     },
     "execution_count": 10,
     "metadata": {},
     "output_type": "execute_result"
    }
   ],
   "source": [
    "rdd.collect()"
   ]
  },
  {
   "cell_type": "code",
   "execution_count": 11,
   "id": "2b10c303",
   "metadata": {},
   "outputs": [],
   "source": [
    "df = rdd.toDF()"
   ]
  },
  {
   "cell_type": "code",
   "execution_count": 12,
   "id": "0dd46a56",
   "metadata": {},
   "outputs": [
    {
     "name": "stdout",
     "output_type": "stream",
     "text": [
      "+---+-----+------+\n",
      "| _1|   _2|    _3|\n",
      "+---+-----+------+\n",
      "|101| John| 56000|\n",
      "|102|  Max| 50000|\n",
      "|103|Shawn|656000|\n",
      "|104| Jack| 45000|\n",
      "|105| Nick| 89000|\n",
      "|106|Smith| 25000|\n",
      "|107| Suma| 75000|\n",
      "|108| Alex| 85000|\n",
      "|109|Raman|100000|\n",
      "+---+-----+------+\n",
      "\n"
     ]
    }
   ],
   "source": [
    "df.show()"
   ]
  },
  {
   "cell_type": "code",
   "execution_count": 13,
   "id": "e1ff946c",
   "metadata": {},
   "outputs": [],
   "source": [
    "# Add column names\n",
    "columns = [\"ID\", \"Name\", \"Salary\"]\n",
    "df_2 = rdd.toDF(columns)"
   ]
  },
  {
   "cell_type": "code",
   "execution_count": 14,
   "id": "91d8e3ac",
   "metadata": {},
   "outputs": [
    {
     "name": "stdout",
     "output_type": "stream",
     "text": [
      "+---+-----+------+\n",
      "| ID| Name|Salary|\n",
      "+---+-----+------+\n",
      "|101| John| 56000|\n",
      "|102|  Max| 50000|\n",
      "|103|Shawn|656000|\n",
      "|104| Jack| 45000|\n",
      "|105| Nick| 89000|\n",
      "|106|Smith| 25000|\n",
      "|107| Suma| 75000|\n",
      "|108| Alex| 85000|\n",
      "|109|Raman|100000|\n",
      "+---+-----+------+\n",
      "\n"
     ]
    }
   ],
   "source": [
    "df_2.show()"
   ]
  },
  {
   "cell_type": "code",
   "execution_count": 15,
   "id": "a9aec022",
   "metadata": {},
   "outputs": [
    {
     "name": "stdout",
     "output_type": "stream",
     "text": [
      "root\n",
      " |-- ID: long (nullable = true)\n",
      " |-- Name: string (nullable = true)\n",
      " |-- Salary: long (nullable = true)\n",
      "\n"
     ]
    }
   ],
   "source": [
    "df_2.printSchema()"
   ]
  },
  {
   "cell_type": "code",
   "execution_count": 16,
   "id": "11225729",
   "metadata": {},
   "outputs": [],
   "source": [
    "# Create Dataframe with Schema"
   ]
  },
  {
   "cell_type": "code",
   "execution_count": 17,
   "id": "f24d6d99",
   "metadata": {},
   "outputs": [],
   "source": [
    "from pyspark.sql.types import StringType, StructType, IntegerType, StructField"
   ]
  },
  {
   "cell_type": "code",
   "execution_count": 18,
   "id": "df6bb79f",
   "metadata": {},
   "outputs": [],
   "source": [
    "schema = StructType([\n",
    "    StructField(\"EmpID\", IntegerType()),\n",
    "    StructField(\"EmpName\", StringType()),\n",
    "    StructField(\"EmpSalary\", IntegerType()),\n",
    "    StructField(\"EmpLeaves\", IntegerType())\n",
    "])"
   ]
  },
  {
   "cell_type": "code",
   "execution_count": 19,
   "id": "116beef9",
   "metadata": {},
   "outputs": [
    {
     "data": {
      "text/plain": [
       "StructType([StructField('EmpID', IntegerType(), True), StructField('EmpName', StringType(), True), StructField('EmpSalary', IntegerType(), True), StructField('EmpLeaves', IntegerType(), True)])"
      ]
     },
     "execution_count": 19,
     "metadata": {},
     "output_type": "execute_result"
    }
   ],
   "source": [
    "schema"
   ]
  },
  {
   "cell_type": "code",
   "execution_count": 21,
   "id": "68281a5c",
   "metadata": {},
   "outputs": [],
   "source": [
    "dataset = [\n",
    "    (101, \"John\", 56000, 2),\n",
    "    (102, \"Max\", 50000, 0),\n",
    "    (103, \"Shawn\", 656000, 1),\n",
    "    (104, \"Jack\", 45000, 5),\n",
    "    (105, \"Nick\", 89000, 3),\n",
    "    (106, \"Smith\", 25000, 1),\n",
    "    (107, \"Suma\", 75000, 0),\n",
    "    (108, \"Alex\", 85000, 0),\n",
    "    (109, \"Raman\", 100000, 2)\n",
    "]\n",
    "\n",
    "new_df = spark.createDataFrame(data=dataset, schema=schema)"
   ]
  },
  {
   "cell_type": "code",
   "execution_count": 22,
   "id": "316c23a4",
   "metadata": {},
   "outputs": [
    {
     "name": "stdout",
     "output_type": "stream",
     "text": [
      "+-----+-------+---------+---------+\n",
      "|EmpID|EmpName|EmpSalary|EmpLeaves|\n",
      "+-----+-------+---------+---------+\n",
      "|  101|   John|    56000|        2|\n",
      "|  102|    Max|    50000|        0|\n",
      "|  103|  Shawn|   656000|        1|\n",
      "|  104|   Jack|    45000|        5|\n",
      "|  105|   Nick|    89000|        3|\n",
      "|  106|  Smith|    25000|        1|\n",
      "|  107|   Suma|    75000|        0|\n",
      "|  108|   Alex|    85000|        0|\n",
      "|  109|  Raman|   100000|        2|\n",
      "+-----+-------+---------+---------+\n",
      "\n"
     ]
    }
   ],
   "source": [
    "new_df.show()"
   ]
  },
  {
   "cell_type": "code",
   "execution_count": 23,
   "id": "448768a8",
   "metadata": {},
   "outputs": [
    {
     "name": "stdout",
     "output_type": "stream",
     "text": [
      "root\n",
      " |-- EmpID: integer (nullable = true)\n",
      " |-- EmpName: string (nullable = true)\n",
      " |-- EmpSalary: integer (nullable = true)\n",
      " |-- EmpLeaves: integer (nullable = true)\n",
      "\n"
     ]
    }
   ],
   "source": [
    "new_df.printSchema()"
   ]
  },
  {
   "cell_type": "code",
   "execution_count": 24,
   "id": "7a7babca",
   "metadata": {},
   "outputs": [
    {
     "data": {
      "text/plain": [
       "[('EmpID', 'int'),\n",
       " ('EmpName', 'string'),\n",
       " ('EmpSalary', 'int'),\n",
       " ('EmpLeaves', 'int')]"
      ]
     },
     "execution_count": 24,
     "metadata": {},
     "output_type": "execute_result"
    }
   ],
   "source": [
    "new_df.dtypes"
   ]
  },
  {
   "cell_type": "code",
   "execution_count": 26,
   "id": "560067da",
   "metadata": {},
   "outputs": [
    {
     "data": {
      "text/plain": [
       "9"
      ]
     },
     "execution_count": 26,
     "metadata": {},
     "output_type": "execute_result"
    }
   ],
   "source": [
    "# print number of rows\n",
    "new_df.count()"
   ]
  },
  {
   "cell_type": "code",
   "execution_count": 27,
   "id": "7f69429f",
   "metadata": {},
   "outputs": [
    {
     "name": "stdout",
     "output_type": "stream",
     "text": [
      "+-----+-------+---------+---------+\n",
      "|EmpID|EmpName|EmpSalary|EmpLeaves|\n",
      "+-----+-------+---------+---------+\n",
      "|  101|   John|    56000|        2|\n",
      "|  102|    Max|    50000|        0|\n",
      "|  103|  Shawn|   656000|        1|\n",
      "+-----+-------+---------+---------+\n",
      "\n"
     ]
    }
   ],
   "source": [
    "# print first 3 rows\n",
    "new_df.limit(3).show()"
   ]
  },
  {
   "cell_type": "code",
   "execution_count": 29,
   "id": "257e2a75",
   "metadata": {},
   "outputs": [
    {
     "data": {
      "text/html": [
       "<div>\n",
       "<style scoped>\n",
       "    .dataframe tbody tr th:only-of-type {\n",
       "        vertical-align: middle;\n",
       "    }\n",
       "\n",
       "    .dataframe tbody tr th {\n",
       "        vertical-align: top;\n",
       "    }\n",
       "\n",
       "    .dataframe thead th {\n",
       "        text-align: right;\n",
       "    }\n",
       "</style>\n",
       "<table border=\"1\" class=\"dataframe\">\n",
       "  <thead>\n",
       "    <tr style=\"text-align: right;\">\n",
       "      <th></th>\n",
       "      <th>EmpID</th>\n",
       "      <th>EmpName</th>\n",
       "      <th>EmpSalary</th>\n",
       "      <th>EmpLeaves</th>\n",
       "    </tr>\n",
       "  </thead>\n",
       "  <tbody>\n",
       "    <tr>\n",
       "      <th>0</th>\n",
       "      <td>101</td>\n",
       "      <td>John</td>\n",
       "      <td>56000</td>\n",
       "      <td>2</td>\n",
       "    </tr>\n",
       "    <tr>\n",
       "      <th>1</th>\n",
       "      <td>102</td>\n",
       "      <td>Max</td>\n",
       "      <td>50000</td>\n",
       "      <td>0</td>\n",
       "    </tr>\n",
       "    <tr>\n",
       "      <th>2</th>\n",
       "      <td>103</td>\n",
       "      <td>Shawn</td>\n",
       "      <td>656000</td>\n",
       "      <td>1</td>\n",
       "    </tr>\n",
       "  </tbody>\n",
       "</table>\n",
       "</div>"
      ],
      "text/plain": [
       "   EmpID EmpName  EmpSalary  EmpLeaves\n",
       "0    101    John      56000          2\n",
       "1    102     Max      50000          0\n",
       "2    103   Shawn     656000          1"
      ]
     },
     "execution_count": 29,
     "metadata": {},
     "output_type": "execute_result"
    }
   ],
   "source": [
    "new_df.limit(3).toPandas()"
   ]
  },
  {
   "cell_type": "code",
   "execution_count": 30,
   "id": "3097b654",
   "metadata": {},
   "outputs": [
    {
     "name": "stdout",
     "output_type": "stream",
     "text": [
      "+-------+---------+\n",
      "|EmpName|EmpSalary|\n",
      "+-------+---------+\n",
      "|   John|    56000|\n",
      "|    Max|    50000|\n",
      "|  Shawn|   656000|\n",
      "+-------+---------+\n",
      "only showing top 3 rows\n",
      "\n"
     ]
    }
   ],
   "source": [
    "# print some specific columns\n",
    "new_df.select(\"EmpName\", \"EmpSalary\").show(3)"
   ]
  },
  {
   "cell_type": "code",
   "execution_count": 31,
   "id": "41cf9417",
   "metadata": {},
   "outputs": [
    {
     "name": "stdout",
     "output_type": "stream",
     "text": [
      "+-------+---------+\n",
      "|EmpName|EmpSalary|\n",
      "+-------+---------+\n",
      "|   John|    56000|\n",
      "|    Max|    50000|\n",
      "|  Shawn|   656000|\n",
      "+-------+---------+\n",
      "only showing top 3 rows\n",
      "\n"
     ]
    }
   ],
   "source": [
    "new_df.select(new_df.EmpName, new_df.EmpSalary).show(3)"
   ]
  },
  {
   "cell_type": "code",
   "execution_count": 33,
   "id": "d6d1a2a6",
   "metadata": {},
   "outputs": [
    {
     "name": "stdout",
     "output_type": "stream",
     "text": [
      "+-------+---------+---------+\n",
      "|EmpName|EmpSalary|EmpLeaves|\n",
      "+-------+---------+---------+\n",
      "|   John|    56000|        2|\n",
      "|    Max|    50000|        0|\n",
      "|  Shawn|   656000|        1|\n",
      "|   Jack|    45000|        5|\n",
      "|   Nick|    89000|        3|\n",
      "+-------+---------+---------+\n",
      "only showing top 5 rows\n",
      "\n"
     ]
    }
   ],
   "source": [
    "# Indexing\n",
    "new_df.select(new_df.columns[1:4]).show(5)"
   ]
  },
  {
   "cell_type": "code",
   "execution_count": 34,
   "id": "a659b559",
   "metadata": {},
   "outputs": [],
   "source": [
    "from pyspark.sql.functions import col, lit"
   ]
  },
  {
   "cell_type": "code",
   "execution_count": 35,
   "id": "5b4fec07",
   "metadata": {},
   "outputs": [
    {
     "name": "stdout",
     "output_type": "stream",
     "text": [
      "+-----+-------+---------+---------+-----------------+\n",
      "|EmpID|EmpName|EmpSalary|EmpLeaves|IncrementedSalary|\n",
      "+-----+-------+---------+---------+-----------------+\n",
      "|  101|   John|    56000|        2|            61000|\n",
      "|  102|    Max|    50000|        0|            55000|\n",
      "|  103|  Shawn|   656000|        1|           661000|\n",
      "|  104|   Jack|    45000|        5|            50000|\n",
      "|  105|   Nick|    89000|        3|            94000|\n",
      "|  106|  Smith|    25000|        1|            30000|\n",
      "|  107|   Suma|    75000|        0|            80000|\n",
      "|  108|   Alex|    85000|        0|            90000|\n",
      "|  109|  Raman|   100000|        2|           105000|\n",
      "+-----+-------+---------+---------+-----------------+\n",
      "\n"
     ]
    }
   ],
   "source": [
    "# increment salary of each emp by 5000\n",
    "new_df.withColumn(\"IncrementedSalary\", col(\"EmpSalary\") + 5000).show()"
   ]
  },
  {
   "cell_type": "code",
   "execution_count": 40,
   "id": "79af8b1c",
   "metadata": {},
   "outputs": [
    {
     "name": "stdout",
     "output_type": "stream",
     "text": [
      "+-----+-------+---------+---------+------------------+\n",
      "|EmpID|EmpName|EmpSalary|EmpLeaves|      SalaryPerDay|\n",
      "+-----+-------+---------+---------+------------------+\n",
      "|  101|   John|    56000|        2| 5090.909090909091|\n",
      "|  102|    Max|    50000|        0|               0.0|\n",
      "|  103|  Shawn|   656000|        1| 29818.18181818182|\n",
      "|  104|   Jack|    45000|        5|10227.272727272728|\n",
      "|  105|   Nick|    89000|        3|12136.363636363636|\n",
      "|  106|  Smith|    25000|        1|1136.3636363636363|\n",
      "|  107|   Suma|    75000|        0|               0.0|\n",
      "|  108|   Alex|    85000|        0|               0.0|\n",
      "|  109|  Raman|   100000|        2|  9090.90909090909|\n",
      "+-----+-------+---------+---------+------------------+\n",
      "\n"
     ]
    }
   ],
   "source": [
    "new_df.withColumn(\"SalaryPerDay\", col(\"EmpSalary\")/22 * col(\"EmpLeaves\")).show()"
   ]
  },
  {
   "cell_type": "code",
   "execution_count": 41,
   "id": "4a244a5e",
   "metadata": {},
   "outputs": [
    {
     "name": "stdout",
     "output_type": "stream",
     "text": [
      "+-----+-------+---------+---------+------------------+\n",
      "|EmpID|EmpName|EmpSalary|EmpLeaves|    SepMonthSalary|\n",
      "+-----+-------+---------+---------+------------------+\n",
      "|  101|   John|    56000|        2| 50909.09090909091|\n",
      "|  102|    Max|    50000|        0|           50000.0|\n",
      "|  103|  Shawn|   656000|        1| 626181.8181818182|\n",
      "|  104|   Jack|    45000|        5| 34772.72727272727|\n",
      "|  105|   Nick|    89000|        3| 76863.63636363637|\n",
      "|  106|  Smith|    25000|        1|23863.636363636364|\n",
      "|  107|   Suma|    75000|        0|           75000.0|\n",
      "|  108|   Alex|    85000|        0|           85000.0|\n",
      "|  109|  Raman|   100000|        2| 90909.09090909091|\n",
      "+-----+-------+---------+---------+------------------+\n",
      "\n"
     ]
    }
   ],
   "source": [
    "new_df.withColumn(\"SepMonthSalary\", col(\"EmpSalary\") - (col(\"EmpSalary\")/22 * col(\"EmpLeaves\"))).show()"
   ]
  },
  {
   "cell_type": "code",
   "execution_count": 45,
   "id": "d6b3160b",
   "metadata": {},
   "outputs": [],
   "source": [
    "temp_df = new_df.withColumn(\"SepMonthSalary\", col(\"EmpSalary\") - (col(\"EmpSalary\")/22 * col(\"EmpLeaves\")))"
   ]
  },
  {
   "cell_type": "code",
   "execution_count": 46,
   "id": "bc2e2e7e",
   "metadata": {},
   "outputs": [],
   "source": [
    "temp_df = temp_df.withColumn(\"SepMonthSalary\", col(\"SepMonthSalary\").cast(\"Integer\"))"
   ]
  },
  {
   "cell_type": "code",
   "execution_count": 47,
   "id": "7ddd06f6",
   "metadata": {},
   "outputs": [
    {
     "name": "stdout",
     "output_type": "stream",
     "text": [
      "+-----+-------+---------+---------+--------------+\n",
      "|EmpID|EmpName|EmpSalary|EmpLeaves|SepMonthSalary|\n",
      "+-----+-------+---------+---------+--------------+\n",
      "|  101|   John|    56000|        2|         50909|\n",
      "|  102|    Max|    50000|        0|         50000|\n",
      "|  103|  Shawn|   656000|        1|        626181|\n",
      "|  104|   Jack|    45000|        5|         34772|\n",
      "|  105|   Nick|    89000|        3|         76863|\n",
      "|  106|  Smith|    25000|        1|         23863|\n",
      "|  107|   Suma|    75000|        0|         75000|\n",
      "|  108|   Alex|    85000|        0|         85000|\n",
      "|  109|  Raman|   100000|        2|         90909|\n",
      "+-----+-------+---------+---------+--------------+\n",
      "\n"
     ]
    }
   ],
   "source": [
    "temp_df.show()"
   ]
  },
  {
   "cell_type": "code",
   "execution_count": 48,
   "id": "75fb0983",
   "metadata": {},
   "outputs": [
    {
     "name": "stdout",
     "output_type": "stream",
     "text": [
      "+-----+-------+---------+---------+\n",
      "|EmpID|EmpName|EmpSalary|EmpLeaves|\n",
      "+-----+-------+---------+---------+\n",
      "|  101|   John|    56000|        2|\n",
      "|  102|    Max|    50000|        0|\n",
      "|  103|  Shawn|   656000|        1|\n",
      "|  104|   Jack|    45000|        5|\n",
      "+-----+-------+---------+---------+\n",
      "only showing top 4 rows\n",
      "\n"
     ]
    }
   ],
   "source": [
    "# Drop a column\n",
    "temp_df.drop(\"SepMonthSalary\").show(4)"
   ]
  },
  {
   "cell_type": "code",
   "execution_count": 50,
   "id": "65b0af8d",
   "metadata": {},
   "outputs": [
    {
     "name": "stdout",
     "output_type": "stream",
     "text": [
      "+-----+-------+---------+---------+--------------+-------+\n",
      "|EmpID|EmpName|EmpSalary|EmpLeaves|SepMonthSalary|EmpDept|\n",
      "+-----+-------+---------+---------+--------------+-------+\n",
      "|  101|   John|    56000|        2|         50909|     IT|\n",
      "|  102|    Max|    50000|        0|         50000|     IT|\n",
      "|  103|  Shawn|   656000|        1|        626181|     IT|\n",
      "|  104|   Jack|    45000|        5|         34772|     IT|\n",
      "|  105|   Nick|    89000|        3|         76863|     IT|\n",
      "|  106|  Smith|    25000|        1|         23863|     IT|\n",
      "|  107|   Suma|    75000|        0|         75000|     IT|\n",
      "|  108|   Alex|    85000|        0|         85000|     IT|\n",
      "|  109|  Raman|   100000|        2|         90909|     IT|\n",
      "+-----+-------+---------+---------+--------------+-------+\n",
      "\n"
     ]
    }
   ],
   "source": [
    "temp_df.withColumn(\"EmpDept\", lit(\"IT\")).show()"
   ]
  },
  {
   "cell_type": "code",
   "execution_count": 51,
   "id": "a550cf9d",
   "metadata": {},
   "outputs": [
    {
     "name": "stdout",
     "output_type": "stream",
     "text": [
      "+-----+-------+---------+---------+--------------+\n",
      "|EmpID|EmpName|EmpSalary|EmpLeaves|SepMonthSalary|\n",
      "+-----+-------+---------+---------+--------------+\n",
      "|  103|  Shawn|   656000|        1|        626181|\n",
      "|  105|   Nick|    89000|        3|         76863|\n",
      "|  107|   Suma|    75000|        0|         75000|\n",
      "|  108|   Alex|    85000|        0|         85000|\n",
      "|  109|  Raman|   100000|        2|         90909|\n",
      "+-----+-------+---------+---------+--------------+\n",
      "\n"
     ]
    }
   ],
   "source": [
    "temp_df.filter(temp_df.EmpSalary >= 60000).show()"
   ]
  },
  {
   "cell_type": "code",
   "execution_count": 52,
   "id": "8538d6a7",
   "metadata": {},
   "outputs": [
    {
     "name": "stdout",
     "output_type": "stream",
     "text": [
      "+-----+-------+---------+---------+--------------+\n",
      "|EmpID|EmpName|EmpSalary|EmpLeaves|SepMonthSalary|\n",
      "+-----+-------+---------+---------+--------------+\n",
      "|  108|   Alex|    85000|        0|         85000|\n",
      "|  104|   Jack|    45000|        5|         34772|\n",
      "|  101|   John|    56000|        2|         50909|\n",
      "|  102|    Max|    50000|        0|         50000|\n",
      "|  105|   Nick|    89000|        3|         76863|\n",
      "|  109|  Raman|   100000|        2|         90909|\n",
      "|  103|  Shawn|   656000|        1|        626181|\n",
      "|  106|  Smith|    25000|        1|         23863|\n",
      "|  107|   Suma|    75000|        0|         75000|\n",
      "+-----+-------+---------+---------+--------------+\n",
      "\n"
     ]
    }
   ],
   "source": [
    "# Sorting\n",
    "temp_df.sort(col(\"EmpName\")).show()"
   ]
  },
  {
   "cell_type": "code",
   "execution_count": 53,
   "id": "c4834e78",
   "metadata": {},
   "outputs": [
    {
     "name": "stdout",
     "output_type": "stream",
     "text": [
      "+-----+-------+---------+---------+--------------+\n",
      "|EmpID|EmpName|EmpSalary|EmpLeaves|SepMonthSalary|\n",
      "+-----+-------+---------+---------+--------------+\n",
      "|  107|   Suma|    75000|        0|         75000|\n",
      "|  106|  Smith|    25000|        1|         23863|\n",
      "|  103|  Shawn|   656000|        1|        626181|\n",
      "|  109|  Raman|   100000|        2|         90909|\n",
      "|  105|   Nick|    89000|        3|         76863|\n",
      "|  102|    Max|    50000|        0|         50000|\n",
      "|  101|   John|    56000|        2|         50909|\n",
      "|  104|   Jack|    45000|        5|         34772|\n",
      "|  108|   Alex|    85000|        0|         85000|\n",
      "+-----+-------+---------+---------+--------------+\n",
      "\n"
     ]
    }
   ],
   "source": [
    "temp_df.sort(col(\"EmpName\").desc()).show()"
   ]
  },
  {
   "cell_type": "code",
   "execution_count": 54,
   "id": "b1f69a42",
   "metadata": {},
   "outputs": [
    {
     "name": "stdout",
     "output_type": "stream",
     "text": [
      "+---------+--------------+\n",
      "|EmpLeaves|sum(EmpSalary)|\n",
      "+---------+--------------+\n",
      "|        1|        681000|\n",
      "|        3|         89000|\n",
      "|        5|         45000|\n",
      "|        2|        156000|\n",
      "|        0|        210000|\n",
      "+---------+--------------+\n",
      "\n"
     ]
    }
   ],
   "source": [
    "temp_df.groupBy(\"EmpLeaves\").sum(\"EmpSalary\").show()"
   ]
  },
  {
   "cell_type": "code",
   "execution_count": 57,
   "id": "672ff3e0",
   "metadata": {},
   "outputs": [
    {
     "name": "stdout",
     "output_type": "stream",
     "text": [
      "+---------+------------+--------------+--------------+--------------+\n",
      "|EmpLeaves|Total Salary|max(EmpSalary)|min(EmpSalary)|avg(EmpSalary)|\n",
      "+---------+------------+--------------+--------------+--------------+\n",
      "|        1|      681000|        656000|         25000|      340500.0|\n",
      "|        3|       89000|         89000|         89000|       89000.0|\n",
      "|        5|       45000|         45000|         45000|       45000.0|\n",
      "|        2|      156000|        100000|         56000|       78000.0|\n",
      "|        0|      210000|         85000|         50000|       70000.0|\n",
      "+---------+------------+--------------+--------------+--------------+\n",
      "\n"
     ]
    }
   ],
   "source": [
    "from pyspark.sql.functions import sum, avg, min, max, count\n",
    "\n",
    "temp_df.groupBy(\"EmpLeaves\").agg(sum(\"EmpSalary\").alias(\"Total Salary\"), max(\"EmpSalary\"), min(\"EmpSalary\"), avg(\"EmpSalary\")).show()"
   ]
  },
  {
   "cell_type": "code",
   "execution_count": null,
   "id": "f4e6f245",
   "metadata": {},
   "outputs": [],
   "source": []
  }
 ],
 "metadata": {
  "kernelspec": {
   "display_name": "Python 3 (ipykernel)",
   "language": "python",
   "name": "python3"
  },
  "language_info": {
   "codemirror_mode": {
    "name": "ipython",
    "version": 3
   },
   "file_extension": ".py",
   "mimetype": "text/x-python",
   "name": "python",
   "nbconvert_exporter": "python",
   "pygments_lexer": "ipython3",
   "version": "3.11.4"
  }
 },
 "nbformat": 4,
 "nbformat_minor": 5
}
