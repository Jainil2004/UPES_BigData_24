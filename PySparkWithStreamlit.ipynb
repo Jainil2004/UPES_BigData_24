{
  "nbformat": 4,
  "nbformat_minor": 0,
  "metadata": {
    "colab": {
      "provenance": [],
      "authorship_tag": "ABX9TyOg0mBtQVVgMye/PCXyR/8p",
      "include_colab_link": true
    },
    "kernelspec": {
      "name": "python3",
      "display_name": "Python 3"
    },
    "language_info": {
      "name": "python"
    }
  },
  "cells": [
    {
      "cell_type": "markdown",
      "metadata": {
        "id": "view-in-github",
        "colab_type": "text"
      },
      "source": [
        "<a href=\"https://colab.research.google.com/github/sqb-codes/UPES_BigData_24/blob/main/PySparkWithStreamlit.ipynb\" target=\"_parent\"><img src=\"https://colab.research.google.com/assets/colab-badge.svg\" alt=\"Open In Colab\"/></a>"
      ]
    },
    {
      "cell_type": "code",
      "execution_count": null,
      "metadata": {
        "id": "GXHScZ7HFyiA"
      },
      "outputs": [],
      "source": [
        "from pyspark.sql import SparkSession\n",
        "from pyspark.ml.regression import LinearRegression\n",
        "from pyspark.ml.feature import VectorAssembler\n",
        "from pyspark.ml import Pipeline\n",
        "import pyspark.sql.functions as fun\n",
        "from pyspark.sql.functions import col\n",
        "\n",
        "spark = SparkSession.builder.master(\"local[*]\").appName(\"App-1\").getOrCreate()\n",
        "\n",
        "df = spark.read.csv(\"NSE_Data.csv\", header=True)\n",
        "\n",
        "df = df.drop(*[\"Date\", \"Shares Traded\", \"Turnover (Rs. Cr)\"])\n",
        "df = df.select(*(col(c).cast(\"Float\").alias(c) for c in df.columns))\n",
        "\n",
        "X = df.drop(\"Close\")\n",
        "assembler = VectorAssembler(inputCols=X.columns, outputCol=\"features\")\n",
        "output = assembler.transform(df).select(\"features\", \"Close\")\n",
        "\n",
        "regression = LinearRegression(featuresCol=\"features\", labelCol=\"Close\")\n",
        "model = regression.fit(output)\n"
      ]
    },
    {
      "cell_type": "code",
      "source": [
        "model.write().overwrite().save(\"model\")"
      ],
      "metadata": {
        "id": "DZ8xw0TSGEhb"
      },
      "execution_count": null,
      "outputs": []
    },
    {
      "cell_type": "code",
      "source": [
        "# !pip install streamlit\n",
        "# !pip install ngrok\n",
        "!pip install pyngrok"
      ],
      "metadata": {
        "colab": {
          "base_uri": "https://localhost:8080/"
        },
        "id": "yaDHykWFGe3d",
        "outputId": "9033a913-6828-4311-d28a-6c0d7fddc2fc"
      },
      "execution_count": null,
      "outputs": [
        {
          "output_type": "stream",
          "name": "stdout",
          "text": [
            "Collecting pyngrok\n",
            "  Downloading pyngrok-7.2.1-py3-none-any.whl.metadata (8.3 kB)\n",
            "Requirement already satisfied: PyYAML>=5.1 in /usr/local/lib/python3.10/dist-packages (from pyngrok) (6.0.2)\n",
            "Downloading pyngrok-7.2.1-py3-none-any.whl (22 kB)\n",
            "Installing collected packages: pyngrok\n",
            "Successfully installed pyngrok-7.2.1\n"
          ]
        }
      ]
    },
    {
      "cell_type": "code",
      "source": [
        "from pyngrok import ngrok\n",
        "\n",
        "ngrok.set_auth_token(\"2oZSzDTr0IDwF67vfT9gUOZyVqR_HirDtFjEN3Nwhy396TTE\")\n",
        "\n",
        "ngrok.kill()\n",
        "\n",
        "public_url = ngrok.connect(addr=8501)\n",
        "print(\"Streamlit is running now...\")"
      ],
      "metadata": {
        "colab": {
          "base_uri": "https://localhost:8080/"
        },
        "id": "W5Y_uXuxIAdL",
        "outputId": "af4cb27c-79ce-4040-bdc2-fa88e5ae4f04"
      },
      "execution_count": null,
      "outputs": [
        {
          "output_type": "stream",
          "name": "stderr",
          "text": [
            "WARNING:pyngrok.process.ngrok:t=2024-11-08T14:25:04+0000 lvl=warn msg=\"can't bind default web address, trying alternatives\" obj=web addr=127.0.0.1:4040\n"
          ]
        },
        {
          "output_type": "stream",
          "name": "stdout",
          "text": [
            "Streamlit is running now...\n"
          ]
        }
      ]
    },
    {
      "cell_type": "code",
      "source": [
        "!streamlit run app.py &>/dev/null"
      ],
      "metadata": {
        "id": "A1TBFUN0GMyN"
      },
      "execution_count": null,
      "outputs": []
    },
    {
      "cell_type": "code",
      "source": [
        "!ngrok http http://localhost:8080"
      ],
      "metadata": {
        "id": "F7j1HZv8GdJc"
      },
      "execution_count": null,
      "outputs": []
    },
    {
      "cell_type": "code",
      "source": [],
      "metadata": {
        "id": "lfqG8RGsG1r5"
      },
      "execution_count": null,
      "outputs": []
    }
  ]
}